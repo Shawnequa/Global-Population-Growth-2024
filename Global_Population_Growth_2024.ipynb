{
  "nbformat": 4,
  "nbformat_minor": 0,
  "metadata": {
    "colab": {
      "provenance": [],
      "authorship_tag": "ABX9TyN1Lgnae4lcj0H02c1dRmz7",
      "include_colab_link": true
    },
    "kernelspec": {
      "name": "python3",
      "display_name": "Python 3"
    },
    "language_info": {
      "name": "python"
    }
  },
  "cells": [
    {
      "cell_type": "markdown",
      "metadata": {
        "id": "view-in-github",
        "colab_type": "text"
      },
      "source": [
        "<a href=\"https://colab.research.google.com/github/Shawnequa/Global-Population-Growth-2024/blob/main/Global_Population_Growth_2024.ipynb\" target=\"_parent\"><img src=\"https://colab.research.google.com/assets/colab-badge.svg\" alt=\"Open In Colab\"/></a>"
      ]
    },
    {
      "cell_type": "markdown",
      "source": [
        "1. Import Libraries\n",
        "\n",
        "Import necessary libraries for data manipulation (pandas, numpy), visualization (matplotlib.pyplot, seaborn), and machine learning (sklearn modules)."
      ],
      "metadata": {
        "id": "fWow1VI1DHmy"
      }
    },
    {
      "cell_type": "code",
      "execution_count": 29,
      "metadata": {
        "id": "flq34j-MDGhK"
      },
      "outputs": [],
      "source": [
        "import pandas as pd\n",
        "import numpy as np\n",
        "import matplotlib.pyplot as plt\n",
        "import seaborn as sns\n",
        "\n",
        "from sklearn.preprocessing import StandardScaler\n",
        "from sklearn.cluster import KMeans\n",
        "from sklearn.metrics import silhouette_score\n",
        "from sklearn.decomposition import PCA"
      ]
    },
    {
      "cell_type": "markdown",
      "source": [
        "2. Data Ingestion\n",
        "\n",
        "Read the dataset from a CSV file into a DataFrame df."
      ],
      "metadata": {
        "id": "lmeWg0MODeVL"
      }
    },
    {
      "cell_type": "code",
      "source": [
        "df = pd.read_csv('/content/global_population_growth_2024.csv')"
      ],
      "metadata": {
        "id": "y6aOYL5dDhZ2"
      },
      "execution_count": 30,
      "outputs": []
    },
    {
      "cell_type": "markdown",
      "source": [
        "3. Set Display Options\n",
        "\n",
        "Adjust pandas display options to view more columns and rows."
      ],
      "metadata": {
        "id": "QtxKaCVjDsGb"
      }
    },
    {
      "cell_type": "code",
      "source": [
        "pd.set_option('display.max_columns', 40)\n",
        "pd.set_option('display.width', 1000)\n",
        "pd.set_option('display.max_rows', 40)"
      ],
      "metadata": {
        "id": "gdSDZZiqDwav"
      },
      "execution_count": 31,
      "outputs": []
    },
    {
      "cell_type": "markdown",
      "source": [
        "4. Initial Inspection & Data Cleansing\n",
        "\n",
        "Check data types of each column and identify non-numeric values in numeric columns. You also display the first few rows of the DataFrame."
      ],
      "metadata": {
        "id": "vx6kPvhED-oK"
      }
    },
    {
      "cell_type": "code",
      "source": [
        "# Check the data types of each column\n",
        "print(df.dtypes)\n",
        "\n",
        "# Check for any non-numeric values in numeric columns\n",
        "for col in df.columns:\n",
        "    print(f\"Column '{col}' has non-numeric data: {df[col].apply(lambda x: isinstance(x, str)).any()}\")\n",
        "\n",
        "# Display the first few rows of the DataFrame\n",
        "print(df.head())"
      ],
      "metadata": {
        "id": "Y5saEe4mD_nI"
      },
      "execution_count": null,
      "outputs": []
    },
    {
      "cell_type": "code",
      "source": [
        "df_cleaned = df.apply(pd.to_numeric, errors='coerce')\n",
        "df_cleaned = df_cleaned.dropna()"
      ],
      "metadata": {
        "id": "VzPLT6_CIurS"
      },
      "execution_count": 33,
      "outputs": []
    },
    {
      "cell_type": "code",
      "source": [
        "df.isna().sum()"
      ],
      "metadata": {
        "colab": {
          "base_uri": "https://localhost:8080/",
          "height": 260
        },
        "id": "JmV5aDDOEnty",
        "outputId": "4b765be2-18ca-41ec-b795-461e0d1afd09"
      },
      "execution_count": 34,
      "outputs": [
        {
          "output_type": "execute_result",
          "data": {
            "text/plain": [
              "City               0\n",
              "Country            0\n",
              "Population_2023    0\n",
              "Growth_Rate (%)    0\n",
              "Population_2024    0\n",
              "dtype: int64"
            ],
            "text/html": [
              "<div>\n",
              "<style scoped>\n",
              "    .dataframe tbody tr th:only-of-type {\n",
              "        vertical-align: middle;\n",
              "    }\n",
              "\n",
              "    .dataframe tbody tr th {\n",
              "        vertical-align: top;\n",
              "    }\n",
              "\n",
              "    .dataframe thead th {\n",
              "        text-align: right;\n",
              "    }\n",
              "</style>\n",
              "<table border=\"1\" class=\"dataframe\">\n",
              "  <thead>\n",
              "    <tr style=\"text-align: right;\">\n",
              "      <th></th>\n",
              "      <th>0</th>\n",
              "    </tr>\n",
              "  </thead>\n",
              "  <tbody>\n",
              "    <tr>\n",
              "      <th>City</th>\n",
              "      <td>0</td>\n",
              "    </tr>\n",
              "    <tr>\n",
              "      <th>Country</th>\n",
              "      <td>0</td>\n",
              "    </tr>\n",
              "    <tr>\n",
              "      <th>Population_2023</th>\n",
              "      <td>0</td>\n",
              "    </tr>\n",
              "    <tr>\n",
              "      <th>Growth_Rate (%)</th>\n",
              "      <td>0</td>\n",
              "    </tr>\n",
              "    <tr>\n",
              "      <th>Population_2024</th>\n",
              "      <td>0</td>\n",
              "    </tr>\n",
              "  </tbody>\n",
              "</table>\n",
              "</div><br><label><b>dtype:</b> int64</label>"
            ]
          },
          "metadata": {},
          "execution_count": 34
        }
      ]
    },
    {
      "cell_type": "markdown",
      "source": [
        "5. Data Exploration - Basic Statistics\n",
        "\n",
        "Display basic statistics for the DataFrame."
      ],
      "metadata": {
        "id": "2iLFJHX1EuDQ"
      }
    },
    {
      "cell_type": "code",
      "source": [
        "print(df.describe())"
      ],
      "metadata": {
        "colab": {
          "base_uri": "https://localhost:8080/"
        },
        "id": "hJC6dHQ0EtZl",
        "outputId": "5056e9be-34c7-4070-f74c-53453e9de1f9"
      },
      "execution_count": 35,
      "outputs": [
        {
          "output_type": "stream",
          "name": "stdout",
          "text": [
            "       Population_2023  Growth_Rate (%)  Population_2024\n",
            "count     1.000000e+03      1000.000000     1.000000e+03\n",
            "mean      1.555745e+07         2.738825     1.598217e+07\n",
            "std       8.188922e+06         1.296754     8.415373e+06\n",
            "min       1.076218e+06         0.507043     1.082482e+06\n",
            "25%       8.767388e+06         1.606459     8.914246e+06\n",
            "50%       1.538409e+07         2.782955     1.589204e+07\n",
            "75%       2.265558e+07         3.819846     2.322489e+07\n",
            "max       2.999429e+07         4.997362     3.122415e+07\n"
          ]
        }
      ]
    },
    {
      "cell_type": "markdown",
      "source": [
        "6. Encoding Categorical Data\n",
        "\n",
        "Convert categorical variables into dummy/indicator variables."
      ],
      "metadata": {
        "id": "EUW7Tja0Gjj4"
      }
    },
    {
      "cell_type": "code",
      "source": [
        "df_encoded = pd.get_dummies(df, drop_first=True)"
      ],
      "metadata": {
        "id": "9ty4BSZvGmO8"
      },
      "execution_count": 37,
      "outputs": []
    },
    {
      "cell_type": "markdown",
      "source": [
        "7. Double Bar Plot\n",
        "\n",
        "Create a bar chart to compare populations in 2023 and 2024 for various cities."
      ],
      "metadata": {
        "id": "FMCNBOvFEz4c"
      }
    },
    {
      "cell_type": "code",
      "source": [
        "cities = ['New York', 'Los Angeles', 'Chicago', 'Houston', 'Phoenix']\n",
        "population_2023 = [8000000, 4000000, 2700000, 2300000, 1600000]\n",
        "population_2024 = [8050000, 4100000, 2750000, 2350000, 1620000]\n",
        "\n",
        "x = np.arange(len(cities))  # the label locations\n",
        "width = 0.35  # the width of the bars\n",
        "\n",
        "fig, ax = plt.subplots()\n",
        "rects1 = ax.bar(x - width/2, population_2023, width, label='2023')\n",
        "rects2 = ax.bar(x + width/2, population_2024, width, label='2024')\n",
        "\n",
        "# Add some text for labels, title, and custom x-axis tick labels, etc.\n",
        "ax.set_xlabel('City')\n",
        "ax.set_ylabel('Population')\n",
        "ax.set_title('Population by City and Year')\n",
        "ax.set_xticks(x)\n",
        "ax.set_xticklabels(cities)\n",
        "ax.legend()\n",
        "\n",
        "# Rotate x-axis labels for better readability\n",
        "plt.xticks(rotation=45)\n",
        "\n",
        "plt.show()"
      ],
      "metadata": {
        "colab": {
          "base_uri": "https://localhost:8080/",
          "height": 462
        },
        "id": "Qd4jFGKRE18t",
        "outputId": "13ad39ea-cd70-423f-dbfb-607cb21e48da"
      },
      "execution_count": 44,
      "outputs": [
        {
          "output_type": "display_data",
          "data": {
            "text/plain": [
              "<Figure size 1500x800 with 1 Axes>"
            ],
            "image/png": "[encoded data removed]"
          },
          "metadata": {}
        }
      ]
    },
    {
      "cell_type": "markdown",
      "source": [
        "8. Clustering Analysis Scaling the Data\n",
        "\n",
        "Scale the numeric data and combine it with the non-numeric data, then display the combined DataFrame."
      ],
      "metadata": {
        "id": "GcEgzD2JE6jx"
      }
    },
    {
      "cell_type": "code",
      "source": [
        "# Separate numeric columns\n",
        "numeric_df = df.select_dtypes(include=[np.number])\n",
        "\n",
        "# Scale the numeric data\n",
        "scaler = StandardScaler()\n",
        "df_scaled = scaler.fit_transform(numeric_df)\n",
        "\n",
        "# Convert the scaled data back to a DataFrame (optional)\n",
        "df_scaled = pd.DataFrame(df_scaled, columns=numeric_df.columns)\n",
        "\n",
        "# Combine scaled numeric data with the non-numeric data if needed\n",
        "df_combined = pd.concat([df[['City']], df_scaled], axis=1)\n",
        "\n",
        "print(df_combined)\n"
      ],
      "metadata": {
        "colab": {
          "base_uri": "https://localhost:8080/"
        },
        "id": "JzGiXHvdE-bs",
        "outputId": "8d1dc65f-d46b-46de-8de7-388009c9a992"
      },
      "execution_count": 46,
      "outputs": [
        {
          "output_type": "stream",
          "name": "stdout",
          "text": [
            "            City  Population_2023  Growth_Rate (%)  Population_2024\n",
            "0    Los Angeles         1.378046        -1.103499         1.332220\n",
            "1       Shanghai        -0.474497        -0.902612        -0.490448\n",
            "2          Cairo         0.811780         1.645278         0.868020\n",
            "3         Mumbai        -0.503042        -1.099007        -0.522123\n",
            "4    Los Angeles        -1.437419         1.239026        -1.429644\n",
            "..           ...              ...              ...              ...\n",
            "995       Sydney         1.667784        -0.039983         1.665717\n",
            "996       Sydney        -0.433815         0.276656        -0.428422\n",
            "997        Cairo         0.786094        -1.575489         0.732665\n",
            "998        Tokyo        -0.318469        -1.300288        -0.344174\n",
            "999       Moscow        -1.624897         0.212225        -1.623577\n",
            "\n",
            "[1000 rows x 4 columns]\n"
          ]
        }
      ]
    },
    {
      "cell_type": "markdown",
      "source": [
        "Elbow Method for Optimal Clusters\n",
        "\n",
        "Use the Elbow Method to determine the optimal number of clusters by plotting the Within-Cluster Sum of Squares (WSS)."
      ],
      "metadata": {
        "id": "gKiDUKv8FBPq"
      }
    },
    {
      "cell_type": "code",
      "source": [
        "wss = []\n",
        "for i in range(1, 10):\n",
        "    km = KMeans(n_clusters=i, init='k-means++', random_state=42)\n",
        "    km.fit(df_scaled)\n",
        "    wss.append(km.inertia_)\n",
        "\n",
        "# Plot the Elbow Method graph\n",
        "plt.plot(range(1, 10), wss, marker='o')\n",
        "plt.title('The Elbow Method')\n",
        "plt.xlabel('Number of Clusters')\n",
        "plt.ylabel('Within-Cluster Sum of Squares (WSS)')\n",
        "plt.show()"
      ],
      "metadata": {
        "id": "5L01t6A3FFcp"
      },
      "execution_count": null,
      "outputs": []
    },
    {
      "cell_type": "markdown",
      "source": [
        "Silhouette Scores for Different Clusters\n",
        "\n",
        "Calculate and plot silhouette scores to evaluate cluster quality for different numbers of clusters."
      ],
      "metadata": {
        "id": "Qw-nQaR9FM1S"
      }
    },
    {
      "cell_type": "code",
      "source": [
        "silhouette_coefficients = []\n",
        "\n",
        "for i in range(2, 10):\n",
        "    km = KMeans(n_clusters=i, max_iter=100, random_state=42)\n",
        "    km.fit(df_scaled)\n",
        "    score = silhouette_score(df_scaled, km.labels_)\n",
        "    silhouette_coefficients.append(score)\n",
        "\n",
        "# Plotting the silhouette scores for different numbers of clusters\n",
        "plt.plot(range(2, 10), silhouette_coefficients, marker='o')\n",
        "plt.xticks(range(2, 10))\n",
        "plt.xlabel('Number of Clusters')\n",
        "plt.ylabel('Silhouette Coefficient')\n",
        "plt.title('Silhouette Coefficients for Different Cluster Sizes')\n",
        "plt.show()\n"
      ],
      "metadata": {
        "id": "HVqcwD_fFPRj"
      },
      "execution_count": null,
      "outputs": []
    },
    {
      "cell_type": "markdown",
      "source": [
        "Dimensionality Reduction using PCA\n",
        "\n",
        "Apply Principal Component Analysis (PCA) for dimensionality reduction."
      ],
      "metadata": {
        "id": "5t4qJ71NFUkl"
      }
    },
    {
      "cell_type": "code",
      "source": [
        "pca = PCA()\n",
        "X = pca.fit_transform(df_scaled)"
      ],
      "metadata": {
        "id": "rX0xNnNPFWt3"
      },
      "execution_count": 53,
      "outputs": []
    },
    {
      "cell_type": "markdown",
      "source": [
        "KMean Clustering with Chosen Number of Clusters\n",
        "\n",
        "Perform KMeans clustering with the chosen number of clusters and obtain cluster labels."
      ],
      "metadata": {
        "id": "MYVGwGutFZPD"
      }
    },
    {
      "cell_type": "code",
      "source": [
        "km = KMeans(n_clusters=3)\n",
        "label = km.fit_predict(X)\n",
        "unique_labels = np.unique(label)"
      ],
      "metadata": {
        "colab": {
          "base_uri": "https://localhost:8080/"
        },
        "id": "pWNQupS4Fb9R",
        "outputId": "c3239e4c-7526-47b6-c06c-29e9b1982822"
      },
      "execution_count": 54,
      "outputs": [
        {
          "output_type": "stream",
          "name": "stderr",
          "text": [
            "/usr/local/lib/python3.10/dist-packages/sklearn/cluster/_kmeans.py:1416: FutureWarning: The default value of `n_init` will change from 10 to 'auto' in 1.4. Set the value of `n_init` explicitly to suppress the warning\n",
            "  super()._check_params_vs_input(X, default_n_init=10)\n"
          ]
        }
      ]
    },
    {
      "cell_type": "markdown",
      "source": [
        "Visualizing Clusters\n",
        "\n",
        "Visualize the clusters in a scatter plot using the PCA-transformed data."
      ],
      "metadata": {
        "id": "3cqi30h3Feu4"
      }
    },
    {
      "cell_type": "code",
      "source": [
        "for i in unique_labels:\n",
        "    plt.scatter(X[label==i,0], X[label==i,1], label=i)\n",
        "\n",
        "plt.legend()\n",
        "plt.title('Global Population Growth 2024')\n",
        "plt.show()"
      ],
      "metadata": {
        "id": "_Pf0fHZmFg4p"
      },
      "execution_count": null,
      "outputs": []
    }
  ]
}